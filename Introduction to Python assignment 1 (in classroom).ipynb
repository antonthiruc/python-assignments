{
 "cells": [
  {
   "cell_type": "code",
   "execution_count": 7,
   "metadata": {},
   "outputs": [],
   "source": [
    "# 1 Create two lists l1 & l2 where l1 has values -> (1,2,3,4,5,6) and l2 has values -> (6,5,4,3,2,1) \n",
    "l1 = [1,2,3,4,5,6]\n",
    "l2 = [6,5,4,3,2,1]"
   ]
  },
  {
   "cell_type": "code",
   "execution_count": 8,
   "metadata": {},
   "outputs": [
    {
     "name": "stdout",
     "output_type": "stream",
     "text": [
      "L1 element value 1 is less than L2 element value 6\n",
      "L1 element value 2 is less than L2 element value 5\n",
      "L1 element value 3 is less than L2 element value 4\n",
      "L1 element value 4 is grater than L2 element value 3\n",
      "L1 element value 5 is grater than L2 element value 2\n",
      "L1 element value 6 is grater than L2 element value 1\n"
     ]
    }
   ],
   "source": [
    "# 1. a. Compare the corresponding element values of both the lists and print \"L1 element value is grater than L2 element value\"\n",
    "     #  if corresponding value from l1 is grater else print \"L1 element value is less than L2 element value\" if correnpoding \n",
    "     #  value from l1 is less than l2\n",
    "for i in range(len(l1)):\n",
    "    if l1[i] > l2[i]:\n",
    "        print('L1 element value',l1[i], 'is grater than L2 element value' ,l2[i])\n",
    "    else:\n",
    "        print('L1 element value' ,l1[i], 'is less than L2 element value' ,l2[i])"
   ]
  },
  {
   "cell_type": "code",
   "execution_count": 10,
   "metadata": {},
   "outputs": [
    {
     "name": "stdout",
     "output_type": "stream",
     "text": [
      "Tuple before adding 5 (10, 20, 30, 40, 50)\n"
     ]
    }
   ],
   "source": [
    "# 2 Create tuple with value -> (10,20,30,40,50)\n",
    "tuple1 = (10, 20, 30, 40, 50)\n",
    "print('Tuple before adding 5', tuple1)"
   ]
  },
  {
   "cell_type": "code",
   "execution_count": 12,
   "metadata": {},
   "outputs": [
    {
     "name": "stdout",
     "output_type": "stream",
     "text": [
      "Tuple after adding 5 (15, 25, 35, 45, 55)\n"
     ]
    }
   ],
   "source": [
    "# 2. a. Use a loop to add 5 more to each individual element of the tuple\n",
    "new_set = list(tuple1)\n",
    "new_set = (i+5 for i in new_set)\n",
    "a = tuple(new_set)\n",
    "print(\"Tuple after adding 5\", a)"
   ]
  },
  {
   "cell_type": "code",
   "execution_count": 14,
   "metadata": {},
   "outputs": [
    {
     "data": {
      "text/plain": [
       "70"
      ]
     },
     "execution_count": 14,
     "metadata": {},
     "output_type": "execute_result"
    }
   ],
   "source": [
    "# 3. Create a user defined function \"add_10()\" which will add 10 more to whatever value you pass in the function\n",
    "def add_10(num):\n",
    "    return num+10\n",
    "add_10(60)"
   ]
  },
  {
   "cell_type": "code",
   "execution_count": 15,
   "metadata": {},
   "outputs": [
    {
     "data": {
      "text/plain": [
       "90"
      ]
     },
     "execution_count": 15,
     "metadata": {},
     "output_type": "execute_result"
    }
   ],
   "source": [
    "add_10(80)"
   ]
  },
  {
   "cell_type": "code",
   "execution_count": 16,
   "metadata": {},
   "outputs": [],
   "source": [
    "# 4. Create a user defined function \"check_odd_even()\" which will check whether the given integer value\n",
    "#    is odd or even. If the number is odd, it will print \"Odd number\", else it will print \"Even number\"\n",
    "def check_odd_even():\n",
    "    x = int(input(\"Please enter a number\"))\n",
    "    if x%2==0:\n",
    "        print(\"Even number\")\n",
    "    else:\n",
    "        print(\"Odd number\")\n",
    "        \n",
    "    "
   ]
  },
  {
   "cell_type": "code",
   "execution_count": 17,
   "metadata": {},
   "outputs": [
    {
     "name": "stdout",
     "output_type": "stream",
     "text": [
      "Please enter a number25\n",
      "Odd number\n"
     ]
    }
   ],
   "source": [
    "check_odd_even()"
   ]
  },
  {
   "cell_type": "code",
   "execution_count": 18,
   "metadata": {},
   "outputs": [
    {
     "name": "stdout",
     "output_type": "stream",
     "text": [
      "Please enter a number28\n",
      "Even number\n"
     ]
    }
   ],
   "source": [
    "check_odd_even()"
   ]
  },
  {
   "cell_type": "code",
   "execution_count": null,
   "metadata": {},
   "outputs": [],
   "source": []
  }
 ],
 "metadata": {
  "kernelspec": {
   "display_name": "Python 3",
   "language": "python",
   "name": "python3"
  },
  "language_info": {
   "codemirror_mode": {
    "name": "ipython",
    "version": 3
   },
   "file_extension": ".py",
   "mimetype": "text/x-python",
   "name": "python",
   "nbconvert_exporter": "python",
   "pygments_lexer": "ipython3",
   "version": "3.7.6"
  }
 },
 "nbformat": 4,
 "nbformat_minor": 4
}
